{
 "cells": [
  {
   "cell_type": "code",
   "execution_count": 2,
   "metadata": {},
   "outputs": [],
   "source": [
    "import pandas as pd\n",
    "import numpy as np\n",
    "import matplotlib.pyplot as plt"
   ]
  },
  {
   "cell_type": "code",
   "execution_count": 3,
   "metadata": {},
   "outputs": [
    {
     "name": "stderr",
     "output_type": "stream",
     "text": [
      "c:\\users\\rohit\\appdata\\local\\programs\\python\\python38-32\\lib\\site-packages\\IPython\\core\\interactiveshell.py:3062: DtypeWarning: Columns (3) have mixed types.Specify dtype option on import or set low_memory=False.\n",
      "  has_raised = await self.run_ast_nodes(code_ast.body, cell_name,\n"
     ]
    },
    {
     "data": {
      "text/html": [
       "<div>\n",
       "<style scoped>\n",
       "    .dataframe tbody tr th:only-of-type {\n",
       "        vertical-align: middle;\n",
       "    }\n",
       "\n",
       "    .dataframe tbody tr th {\n",
       "        vertical-align: top;\n",
       "    }\n",
       "\n",
       "    .dataframe thead th {\n",
       "        text-align: right;\n",
       "    }\n",
       "</style>\n",
       "<table border=\"1\" class=\"dataframe\">\n",
       "  <thead>\n",
       "    <tr style=\"text-align: right;\">\n",
       "      <th></th>\n",
       "      <th>Unnamed: 0</th>\n",
       "      <th>Num Cases</th>\n",
       "      <th>Date Announced</th>\n",
       "      <th>Age Bracket</th>\n",
       "      <th>Gender</th>\n",
       "      <th>Detected City</th>\n",
       "      <th>Detected District</th>\n",
       "      <th>Detected State</th>\n",
       "      <th>Day</th>\n",
       "      <th>Month</th>\n",
       "      <th>Year</th>\n",
       "      <th>Current Status</th>\n",
       "    </tr>\n",
       "  </thead>\n",
       "  <tbody>\n",
       "    <tr>\n",
       "      <th>0</th>\n",
       "      <td>0</td>\n",
       "      <td>1.0</td>\n",
       "      <td>30/01/2020</td>\n",
       "      <td>20</td>\n",
       "      <td>F</td>\n",
       "      <td>Thrissur</td>\n",
       "      <td>Thrissur</td>\n",
       "      <td>Kerala</td>\n",
       "      <td>30</td>\n",
       "      <td>1</td>\n",
       "      <td>2020</td>\n",
       "      <td>Recovered</td>\n",
       "    </tr>\n",
       "    <tr>\n",
       "      <th>1</th>\n",
       "      <td>1</td>\n",
       "      <td>1.0</td>\n",
       "      <td>02/02/2020</td>\n",
       "      <td>NaN</td>\n",
       "      <td>NaN</td>\n",
       "      <td>Alappuzha</td>\n",
       "      <td>Alappuzha</td>\n",
       "      <td>Kerala</td>\n",
       "      <td>2</td>\n",
       "      <td>2</td>\n",
       "      <td>2020</td>\n",
       "      <td>Recovered</td>\n",
       "    </tr>\n",
       "    <tr>\n",
       "      <th>2</th>\n",
       "      <td>2</td>\n",
       "      <td>1.0</td>\n",
       "      <td>03/02/2020</td>\n",
       "      <td>NaN</td>\n",
       "      <td>NaN</td>\n",
       "      <td>Kasaragod</td>\n",
       "      <td>Kasaragod</td>\n",
       "      <td>Kerala</td>\n",
       "      <td>3</td>\n",
       "      <td>2</td>\n",
       "      <td>2020</td>\n",
       "      <td>Recovered</td>\n",
       "    </tr>\n",
       "    <tr>\n",
       "      <th>3</th>\n",
       "      <td>3</td>\n",
       "      <td>1.0</td>\n",
       "      <td>02/03/2020</td>\n",
       "      <td>45</td>\n",
       "      <td>M</td>\n",
       "      <td>East Delhi (Mayur Vihar)</td>\n",
       "      <td>East Delhi</td>\n",
       "      <td>Delhi</td>\n",
       "      <td>2</td>\n",
       "      <td>3</td>\n",
       "      <td>2020</td>\n",
       "      <td>Recovered</td>\n",
       "    </tr>\n",
       "    <tr>\n",
       "      <th>4</th>\n",
       "      <td>4</td>\n",
       "      <td>1.0</td>\n",
       "      <td>02/03/2020</td>\n",
       "      <td>24</td>\n",
       "      <td>M</td>\n",
       "      <td>Hyderabad</td>\n",
       "      <td>Hyderabad</td>\n",
       "      <td>Telangana</td>\n",
       "      <td>2</td>\n",
       "      <td>3</td>\n",
       "      <td>2020</td>\n",
       "      <td>Recovered</td>\n",
       "    </tr>\n",
       "  </tbody>\n",
       "</table>\n",
       "</div>"
      ],
      "text/plain": [
       "   Unnamed: 0  Num Cases Date Announced Age Bracket Gender  \\\n",
       "0           0        1.0     30/01/2020          20      F   \n",
       "1           1        1.0     02/02/2020         NaN    NaN   \n",
       "2           2        1.0     03/02/2020         NaN    NaN   \n",
       "3           3        1.0     02/03/2020          45      M   \n",
       "4           4        1.0     02/03/2020          24      M   \n",
       "\n",
       "              Detected City Detected District Detected State  Day  Month  \\\n",
       "0                  Thrissur          Thrissur         Kerala   30      1   \n",
       "1                 Alappuzha         Alappuzha         Kerala    2      2   \n",
       "2                 Kasaragod         Kasaragod         Kerala    3      2   \n",
       "3  East Delhi (Mayur Vihar)        East Delhi          Delhi    2      3   \n",
       "4                 Hyderabad         Hyderabad      Telangana    2      3   \n",
       "\n",
       "   Year Current Status  \n",
       "0  2020      Recovered  \n",
       "1  2020      Recovered  \n",
       "2  2020      Recovered  \n",
       "3  2020      Recovered  \n",
       "4  2020      Recovered  "
      ]
     },
     "execution_count": 3,
     "metadata": {},
     "output_type": "execute_result"
    }
   ],
   "source": [
    "df = pd.read_csv('Covid19India.csv')\n",
    "df.head()"
   ]
  },
  {
   "cell_type": "code",
   "execution_count": 4,
   "metadata": {},
   "outputs": [
    {
     "data": {
      "text/html": [
       "<div>\n",
       "<style scoped>\n",
       "    .dataframe tbody tr th:only-of-type {\n",
       "        vertical-align: middle;\n",
       "    }\n",
       "\n",
       "    .dataframe tbody tr th {\n",
       "        vertical-align: top;\n",
       "    }\n",
       "\n",
       "    .dataframe thead th {\n",
       "        text-align: right;\n",
       "    }\n",
       "</style>\n",
       "<table border=\"1\" class=\"dataframe\">\n",
       "  <thead>\n",
       "    <tr style=\"text-align: right;\">\n",
       "      <th></th>\n",
       "      <th>Num Cases</th>\n",
       "      <th>Date Announced</th>\n",
       "      <th>Age Bracket</th>\n",
       "      <th>Gender</th>\n",
       "      <th>Detected City</th>\n",
       "      <th>Detected District</th>\n",
       "      <th>Detected State</th>\n",
       "      <th>Day</th>\n",
       "      <th>Month</th>\n",
       "      <th>Year</th>\n",
       "      <th>Current Status</th>\n",
       "    </tr>\n",
       "  </thead>\n",
       "  <tbody>\n",
       "    <tr>\n",
       "      <th>0</th>\n",
       "      <td>1.0</td>\n",
       "      <td>30/01/2020</td>\n",
       "      <td>20</td>\n",
       "      <td>F</td>\n",
       "      <td>Thrissur</td>\n",
       "      <td>Thrissur</td>\n",
       "      <td>Kerala</td>\n",
       "      <td>30</td>\n",
       "      <td>1</td>\n",
       "      <td>2020</td>\n",
       "      <td>Recovered</td>\n",
       "    </tr>\n",
       "    <tr>\n",
       "      <th>1</th>\n",
       "      <td>1.0</td>\n",
       "      <td>02/02/2020</td>\n",
       "      <td>NaN</td>\n",
       "      <td>NaN</td>\n",
       "      <td>Alappuzha</td>\n",
       "      <td>Alappuzha</td>\n",
       "      <td>Kerala</td>\n",
       "      <td>2</td>\n",
       "      <td>2</td>\n",
       "      <td>2020</td>\n",
       "      <td>Recovered</td>\n",
       "    </tr>\n",
       "    <tr>\n",
       "      <th>2</th>\n",
       "      <td>1.0</td>\n",
       "      <td>03/02/2020</td>\n",
       "      <td>NaN</td>\n",
       "      <td>NaN</td>\n",
       "      <td>Kasaragod</td>\n",
       "      <td>Kasaragod</td>\n",
       "      <td>Kerala</td>\n",
       "      <td>3</td>\n",
       "      <td>2</td>\n",
       "      <td>2020</td>\n",
       "      <td>Recovered</td>\n",
       "    </tr>\n",
       "    <tr>\n",
       "      <th>3</th>\n",
       "      <td>1.0</td>\n",
       "      <td>02/03/2020</td>\n",
       "      <td>45</td>\n",
       "      <td>M</td>\n",
       "      <td>East Delhi (Mayur Vihar)</td>\n",
       "      <td>East Delhi</td>\n",
       "      <td>Delhi</td>\n",
       "      <td>2</td>\n",
       "      <td>3</td>\n",
       "      <td>2020</td>\n",
       "      <td>Recovered</td>\n",
       "    </tr>\n",
       "    <tr>\n",
       "      <th>4</th>\n",
       "      <td>1.0</td>\n",
       "      <td>02/03/2020</td>\n",
       "      <td>24</td>\n",
       "      <td>M</td>\n",
       "      <td>Hyderabad</td>\n",
       "      <td>Hyderabad</td>\n",
       "      <td>Telangana</td>\n",
       "      <td>2</td>\n",
       "      <td>3</td>\n",
       "      <td>2020</td>\n",
       "      <td>Recovered</td>\n",
       "    </tr>\n",
       "  </tbody>\n",
       "</table>\n",
       "</div>"
      ],
      "text/plain": [
       "   Num Cases Date Announced Age Bracket Gender             Detected City  \\\n",
       "0        1.0     30/01/2020          20      F                  Thrissur   \n",
       "1        1.0     02/02/2020         NaN    NaN                 Alappuzha   \n",
       "2        1.0     03/02/2020         NaN    NaN                 Kasaragod   \n",
       "3        1.0     02/03/2020          45      M  East Delhi (Mayur Vihar)   \n",
       "4        1.0     02/03/2020          24      M                 Hyderabad   \n",
       "\n",
       "  Detected District Detected State  Day  Month  Year Current Status  \n",
       "0          Thrissur         Kerala   30      1  2020      Recovered  \n",
       "1         Alappuzha         Kerala    2      2  2020      Recovered  \n",
       "2         Kasaragod         Kerala    3      2  2020      Recovered  \n",
       "3        East Delhi          Delhi    2      3  2020      Recovered  \n",
       "4         Hyderabad      Telangana    2      3  2020      Recovered  "
      ]
     },
     "execution_count": 4,
     "metadata": {},
     "output_type": "execute_result"
    }
   ],
   "source": [
    "data= df.iloc[ :, 1:]\n",
    "data.head()"
   ]
  },
  {
   "cell_type": "code",
   "execution_count": 5,
   "metadata": {},
   "outputs": [
    {
     "name": "stdout",
     "output_type": "stream",
     "text": [
      "<class 'pandas.core.frame.DataFrame'>\n",
      "RangeIndex: 145859 entries, 0 to 145858\n",
      "Data columns (total 11 columns):\n",
      " #   Column             Non-Null Count   Dtype  \n",
      "---  ------             --------------   -----  \n",
      " 0   Num Cases          145856 non-null  float64\n",
      " 1   Date Announced     145859 non-null  object \n",
      " 2   Age Bracket        60013 non-null   object \n",
      " 3   Gender             62808 non-null   object \n",
      " 4   Detected City      10949 non-null   object \n",
      " 5   Detected District  137460 non-null  object \n",
      " 6   Detected State     145850 non-null  object \n",
      " 7   Day                145859 non-null  int64  \n",
      " 8   Month              145859 non-null  int64  \n",
      " 9   Year               145859 non-null  int64  \n",
      " 10  Current Status     145857 non-null  object \n",
      "dtypes: float64(1), int64(3), object(7)\n",
      "memory usage: 8.3+ MB\n"
     ]
    }
   ],
   "source": [
    "data.info()"
   ]
  },
  {
   "cell_type": "code",
   "execution_count": 6,
   "metadata": {},
   "outputs": [
    {
     "data": {
      "text/html": [
       "<div>\n",
       "<style scoped>\n",
       "    .dataframe tbody tr th:only-of-type {\n",
       "        vertical-align: middle;\n",
       "    }\n",
       "\n",
       "    .dataframe tbody tr th {\n",
       "        vertical-align: top;\n",
       "    }\n",
       "\n",
       "    .dataframe thead th {\n",
       "        text-align: right;\n",
       "    }\n",
       "</style>\n",
       "<table border=\"1\" class=\"dataframe\">\n",
       "  <thead>\n",
       "    <tr style=\"text-align: right;\">\n",
       "      <th></th>\n",
       "      <th>Num Cases</th>\n",
       "      <th>Date Announced</th>\n",
       "      <th>Age Bracket</th>\n",
       "      <th>Gender</th>\n",
       "      <th>Detected City</th>\n",
       "      <th>Detected District</th>\n",
       "      <th>Detected State</th>\n",
       "      <th>Day</th>\n",
       "      <th>Month</th>\n",
       "      <th>Year</th>\n",
       "      <th>Current Status</th>\n",
       "    </tr>\n",
       "  </thead>\n",
       "  <tbody>\n",
       "    <tr>\n",
       "      <th>0</th>\n",
       "      <td>1.0</td>\n",
       "      <td>30/01/2020</td>\n",
       "      <td>20</td>\n",
       "      <td>F</td>\n",
       "      <td>Thrissur</td>\n",
       "      <td>Thrissur</td>\n",
       "      <td>Kerala</td>\n",
       "      <td>30</td>\n",
       "      <td>1</td>\n",
       "      <td>2020</td>\n",
       "      <td>Recovered</td>\n",
       "    </tr>\n",
       "    <tr>\n",
       "      <th>1</th>\n",
       "      <td>1.0</td>\n",
       "      <td>02/02/2020</td>\n",
       "      <td>NaN</td>\n",
       "      <td>NaN</td>\n",
       "      <td>Alappuzha</td>\n",
       "      <td>Alappuzha</td>\n",
       "      <td>Kerala</td>\n",
       "      <td>2</td>\n",
       "      <td>2</td>\n",
       "      <td>2020</td>\n",
       "      <td>Recovered</td>\n",
       "    </tr>\n",
       "    <tr>\n",
       "      <th>2</th>\n",
       "      <td>1.0</td>\n",
       "      <td>03/02/2020</td>\n",
       "      <td>NaN</td>\n",
       "      <td>NaN</td>\n",
       "      <td>Kasaragod</td>\n",
       "      <td>Kasaragod</td>\n",
       "      <td>Kerala</td>\n",
       "      <td>3</td>\n",
       "      <td>2</td>\n",
       "      <td>2020</td>\n",
       "      <td>Recovered</td>\n",
       "    </tr>\n",
       "    <tr>\n",
       "      <th>3</th>\n",
       "      <td>1.0</td>\n",
       "      <td>02/03/2020</td>\n",
       "      <td>45</td>\n",
       "      <td>M</td>\n",
       "      <td>East Delhi (Mayur Vihar)</td>\n",
       "      <td>East Delhi</td>\n",
       "      <td>Delhi</td>\n",
       "      <td>2</td>\n",
       "      <td>3</td>\n",
       "      <td>2020</td>\n",
       "      <td>Recovered</td>\n",
       "    </tr>\n",
       "    <tr>\n",
       "      <th>4</th>\n",
       "      <td>1.0</td>\n",
       "      <td>02/03/2020</td>\n",
       "      <td>24</td>\n",
       "      <td>M</td>\n",
       "      <td>Hyderabad</td>\n",
       "      <td>Hyderabad</td>\n",
       "      <td>Telangana</td>\n",
       "      <td>2</td>\n",
       "      <td>3</td>\n",
       "      <td>2020</td>\n",
       "      <td>Recovered</td>\n",
       "    </tr>\n",
       "  </tbody>\n",
       "</table>\n",
       "</div>"
      ],
      "text/plain": [
       "   Num Cases Date Announced Age Bracket Gender             Detected City  \\\n",
       "0        1.0     30/01/2020          20      F                  Thrissur   \n",
       "1        1.0     02/02/2020         NaN    NaN                 Alappuzha   \n",
       "2        1.0     03/02/2020         NaN    NaN                 Kasaragod   \n",
       "3        1.0     02/03/2020          45      M  East Delhi (Mayur Vihar)   \n",
       "4        1.0     02/03/2020          24      M                 Hyderabad   \n",
       "\n",
       "  Detected District Detected State  Day  Month  Year Current Status  \n",
       "0          Thrissur         Kerala   30      1  2020      Recovered  \n",
       "1         Alappuzha         Kerala    2      2  2020      Recovered  \n",
       "2         Kasaragod         Kerala    3      2  2020      Recovered  \n",
       "3        East Delhi          Delhi    2      3  2020      Recovered  \n",
       "4         Hyderabad      Telangana    2      3  2020      Recovered  "
      ]
     },
     "execution_count": 6,
     "metadata": {},
     "output_type": "execute_result"
    }
   ],
   "source": [
    "data.head()"
   ]
  },
  {
   "cell_type": "code",
   "execution_count": 7,
   "metadata": {},
   "outputs": [
    {
     "data": {
      "text/plain": [
       "Date Announced            0\n",
       "Day                       0\n",
       "Month                     0\n",
       "Year                      0\n",
       "Current Status            2\n",
       "Num Cases                 3\n",
       "Detected State            9\n",
       "Detected District      8399\n",
       "Gender                83051\n",
       "Age Bracket           85846\n",
       "Detected City        134910\n",
       "dtype: int64"
      ]
     },
     "execution_count": 7,
     "metadata": {},
     "output_type": "execute_result"
    }
   ],
   "source": [
    "#Inspect null values in each columns by ascending order\n",
    "data.isnull().sum().sort_values()"
   ]
  },
  {
   "cell_type": "code",
   "execution_count": 8,
   "metadata": {},
   "outputs": [
    {
     "data": {
      "text/plain": [
       "Detected City        134910\n",
       "Age Bracket           85846\n",
       "Gender                83051\n",
       "Detected District      8399\n",
       "Detected State            9\n",
       "Num Cases                 3\n",
       "Current Status            2\n",
       "Year                      0\n",
       "Month                     0\n",
       "Day                       0\n",
       "Date Announced            0\n",
       "dtype: int64"
      ]
     },
     "execution_count": 8,
     "metadata": {},
     "output_type": "execute_result"
    }
   ],
   "source": [
    "#Inspect null values in each columns by decending order\n",
    "data.isnull().sum().sort_values(ascending=False)"
   ]
  },
  {
   "cell_type": "code",
   "execution_count": 9,
   "metadata": {},
   "outputs": [
    {
     "data": {
      "text/plain": [
       "Detected City        92.493435\n",
       "Age Bracket          58.855470\n",
       "Gender               56.939236\n",
       "Detected District     5.758301\n",
       "Detected State        0.006170\n",
       "Num Cases             0.002057\n",
       "Current Status        0.001371\n",
       "Year                  0.000000\n",
       "Month                 0.000000\n",
       "Day                   0.000000\n",
       "Date Announced        0.000000\n",
       "dtype: float64"
      ]
     },
     "execution_count": 9,
     "metadata": {},
     "output_type": "execute_result"
    }
   ],
   "source": [
    "#To Count Percentage Value\n",
    "data.isnull().sum().sort_values(ascending=False)/len(data)*100"
   ]
  },
  {
   "cell_type": "code",
   "execution_count": 10,
   "metadata": {},
   "outputs": [
    {
     "data": {
      "text/plain": [
       "Detected City        92.49\n",
       "Age Bracket          58.86\n",
       "Gender               56.94\n",
       "Detected District     5.76\n",
       "Detected State        0.01\n",
       "Num Cases             0.00\n",
       "Current Status        0.00\n",
       "Year                  0.00\n",
       "Month                 0.00\n",
       "Day                   0.00\n",
       "Date Announced        0.00\n",
       "dtype: float64"
      ]
     },
     "execution_count": 10,
     "metadata": {},
     "output_type": "execute_result"
    }
   ],
   "source": [
    "#To Count Percentage Value\n",
    "val = data.isnull().sum().sort_values(ascending=False)/len(data)*100\n",
    "pct2 = round(val, 2)\n",
    "pct2"
   ]
  },
  {
   "cell_type": "code",
   "execution_count": 11,
   "metadata": {},
   "outputs": [
    {
     "data": {
      "text/plain": [
       "28451     6\n",
       "69008     6\n",
       "69009     6\n",
       "28834     5\n",
       "4375      5\n",
       "         ..\n",
       "108695    0\n",
       "108694    0\n",
       "108693    0\n",
       "108692    0\n",
       "0         0\n",
       "Length: 145859, dtype: int64"
      ]
     },
     "execution_count": 11,
     "metadata": {},
     "output_type": "execute_result"
    }
   ],
   "source": [
    "#Inspect null values in each Row\n",
    "\n",
    "data.isnull().sum(axis=1).sort_values(ascending=False)"
   ]
  },
  {
   "cell_type": "code",
   "execution_count": 12,
   "metadata": {},
   "outputs": [
    {
     "data": {
      "text/plain": [
       "Month\n",
       "1         1.0\n",
       "2         2.0\n",
       "3      1635.0\n",
       "4     36078.0\n",
       "5    242853.0\n",
       "6    663178.0\n",
       "7    270185.0\n",
       "Name: Num Cases, dtype: float64"
      ]
     },
     "execution_count": 12,
     "metadata": {},
     "output_type": "execute_result"
    }
   ],
   "source": [
    "#Total Data Month Wise\n",
    "ll = data.groupby('Month')['Num Cases'].sum()\n",
    "ll"
   ]
  },
  {
   "cell_type": "code",
   "execution_count": 13,
   "metadata": {},
   "outputs": [
    {
     "data": {
      "text/html": [
       "<div>\n",
       "<style scoped>\n",
       "    .dataframe tbody tr th:only-of-type {\n",
       "        vertical-align: middle;\n",
       "    }\n",
       "\n",
       "    .dataframe tbody tr th {\n",
       "        vertical-align: top;\n",
       "    }\n",
       "\n",
       "    .dataframe thead th {\n",
       "        text-align: right;\n",
       "    }\n",
       "</style>\n",
       "<table border=\"1\" class=\"dataframe\">\n",
       "  <thead>\n",
       "    <tr style=\"text-align: right;\">\n",
       "      <th></th>\n",
       "      <th>Num Cases</th>\n",
       "      <th>Date Announced</th>\n",
       "      <th>Age Bracket</th>\n",
       "      <th>Gender</th>\n",
       "      <th>Detected City</th>\n",
       "      <th>Detected District</th>\n",
       "      <th>Detected State</th>\n",
       "      <th>Day</th>\n",
       "      <th>Month</th>\n",
       "      <th>Year</th>\n",
       "      <th>Current Status</th>\n",
       "    </tr>\n",
       "  </thead>\n",
       "  <tbody>\n",
       "    <tr>\n",
       "      <th>18</th>\n",
       "      <td>1.0</td>\n",
       "      <td>04/03/2020</td>\n",
       "      <td>55</td>\n",
       "      <td>NaN</td>\n",
       "      <td>Gurugram</td>\n",
       "      <td>Italians</td>\n",
       "      <td>Haryana</td>\n",
       "      <td>4</td>\n",
       "      <td>3</td>\n",
       "      <td>2020</td>\n",
       "      <td>Hospitalized</td>\n",
       "    </tr>\n",
       "    <tr>\n",
       "      <th>19</th>\n",
       "      <td>1.0</td>\n",
       "      <td>04/03/2020</td>\n",
       "      <td>55</td>\n",
       "      <td>NaN</td>\n",
       "      <td>Gurugram</td>\n",
       "      <td>Italians</td>\n",
       "      <td>Haryana</td>\n",
       "      <td>4</td>\n",
       "      <td>3</td>\n",
       "      <td>2020</td>\n",
       "      <td>Hospitalized</td>\n",
       "    </tr>\n",
       "    <tr>\n",
       "      <th>21</th>\n",
       "      <td>1.0</td>\n",
       "      <td>04/03/2020</td>\n",
       "      <td>NaN</td>\n",
       "      <td>M</td>\n",
       "      <td>Agra</td>\n",
       "      <td>Agra</td>\n",
       "      <td>Uttar Pradesh</td>\n",
       "      <td>4</td>\n",
       "      <td>3</td>\n",
       "      <td>2020</td>\n",
       "      <td>Hospitalized</td>\n",
       "    </tr>\n",
       "    <tr>\n",
       "      <th>26</th>\n",
       "      <td>1.0</td>\n",
       "      <td>04/03/2020</td>\n",
       "      <td>NaN</td>\n",
       "      <td>NaN</td>\n",
       "      <td>Agra</td>\n",
       "      <td>Agra</td>\n",
       "      <td>Uttar Pradesh</td>\n",
       "      <td>4</td>\n",
       "      <td>3</td>\n",
       "      <td>2020</td>\n",
       "      <td>Hospitalized</td>\n",
       "    </tr>\n",
       "    <tr>\n",
       "      <th>27</th>\n",
       "      <td>1.0</td>\n",
       "      <td>04/03/2020</td>\n",
       "      <td>NaN</td>\n",
       "      <td>NaN</td>\n",
       "      <td>NaN</td>\n",
       "      <td>Agra</td>\n",
       "      <td>Uttar Pradesh</td>\n",
       "      <td>4</td>\n",
       "      <td>3</td>\n",
       "      <td>2020</td>\n",
       "      <td>Hospitalized</td>\n",
       "    </tr>\n",
       "  </tbody>\n",
       "</table>\n",
       "</div>"
      ],
      "text/plain": [
       "    Num Cases Date Announced Age Bracket Gender Detected City  \\\n",
       "18        1.0     04/03/2020          55    NaN      Gurugram   \n",
       "19        1.0     04/03/2020          55    NaN      Gurugram   \n",
       "21        1.0     04/03/2020         NaN      M          Agra   \n",
       "26        1.0     04/03/2020         NaN    NaN          Agra   \n",
       "27        1.0     04/03/2020         NaN    NaN           NaN   \n",
       "\n",
       "   Detected District Detected State  Day  Month  Year Current Status  \n",
       "18          Italians        Haryana    4      3  2020   Hospitalized  \n",
       "19          Italians        Haryana    4      3  2020   Hospitalized  \n",
       "21              Agra  Uttar Pradesh    4      3  2020   Hospitalized  \n",
       "26              Agra  Uttar Pradesh    4      3  2020   Hospitalized  \n",
       "27              Agra  Uttar Pradesh    4      3  2020   Hospitalized  "
      ]
     },
     "execution_count": 13,
     "metadata": {},
     "output_type": "execute_result"
    }
   ],
   "source": [
    "#Total Covid-19 case Hospitalized\n",
    "\n",
    "data[data['Current Status']=='Hospitalized'].head()"
   ]
  },
  {
   "cell_type": "code",
   "execution_count": 14,
   "metadata": {},
   "outputs": [
    {
     "data": {
      "text/plain": [
       "<matplotlib.axes._subplots.AxesSubplot at 0xa7176d0>"
      ]
     },
     "execution_count": 14,
     "metadata": {},
     "output_type": "execute_result"
    },
    {
     "data": {
      "image/png": "[encoded data removed]",
      "text/plain": [
       "<Figure size 720x432 with 1 Axes>"
      ]
     },
     "metadata": {
      "needs_background": "light"
     },
     "output_type": "display_data"
    }
   ],
   "source": [
    "ll.plot(figsize=(10,6))"
   ]
  },
  {
   "cell_type": "code",
   "execution_count": 15,
   "metadata": {},
   "outputs": [
    {
     "data": {
      "text/plain": [
       "Month\n",
       "3      1431.0\n",
       "4     33208.0\n",
       "5    155781.0\n",
       "6    395144.0\n",
       "7    157701.0\n",
       "Name: Num Cases, dtype: float64"
      ]
     },
     "execution_count": 15,
     "metadata": {},
     "output_type": "execute_result"
    }
   ],
   "source": [
    "#Total Active case Month wise Who Hospitalized\n",
    "\n",
    "hs = data[data['Current Status']=='Hospitalized'].groupby('Month')['Num Cases'].sum()\n",
    "hs"
   ]
  },
  {
   "cell_type": "code",
   "execution_count": 16,
   "metadata": {},
   "outputs": [
    {
     "data": {
      "image/png": "[encoded data removed]",
      "text/plain": [
       "<Figure size 432x288 with 1 Axes>"
      ]
     },
     "metadata": {
      "needs_background": "light"
     },
     "output_type": "display_data"
    }
   ],
   "source": [
    "hs.plot.bar()\n",
    "plt.show()"
   ]
  },
  {
   "cell_type": "code",
   "execution_count": 17,
   "metadata": {},
   "outputs": [
    {
     "data": {
      "text/plain": [
       "Month\n",
       "1         1.0\n",
       "2         2.0\n",
       "3       177.0\n",
       "4      2573.0\n",
       "5     82804.0\n",
       "6    255977.0\n",
       "7    109206.0\n",
       "Name: Num Cases, dtype: float64"
      ]
     },
     "execution_count": 17,
     "metadata": {},
     "output_type": "execute_result"
    }
   ],
   "source": [
    "#Total Recovered case Month wise Who Recovered\n",
    "\n",
    "rc = data[data['Current Status']=='Recovered'].groupby('Month')['Num Cases'].sum()\n",
    "rc"
   ]
  },
  {
   "cell_type": "code",
   "execution_count": 18,
   "metadata": {},
   "outputs": [
    {
     "data": {
      "image/png": "[encoded data removed]",
      "text/plain": [
       "<Figure size 432x288 with 1 Axes>"
      ]
     },
     "metadata": {
      "needs_background": "light"
     },
     "output_type": "display_data"
    }
   ],
   "source": [
    "rc.plot.bar()\n",
    "plt.show()"
   ]
  },
  {
   "cell_type": "code",
   "execution_count": 19,
   "metadata": {},
   "outputs": [
    {
     "data": {
      "text/plain": [
       "Gender\n",
       "F             21294.0\n",
       "M             42795.0\n",
       "M                 1.0\n",
       "Non-Binary       12.0\n",
       "Name: Num Cases, dtype: float64"
      ]
     },
     "execution_count": 19,
     "metadata": {},
     "output_type": "execute_result"
    }
   ],
   "source": [
    "#Total Male And Female Infected with Covid-19\n",
    "data.groupby('Gender')['Num Cases'].sum()"
   ]
  },
  {
   "cell_type": "code",
   "execution_count": 20,
   "metadata": {},
   "outputs": [
    {
     "data": {
      "text/plain": [
       "Age Bracket\n",
       "30.0    1209.0\n",
       "40.0    1027.0\n",
       "25.0    1015.0\n",
       "35.0     992.0\n",
       "32.0     936.0\n",
       "45.0     893.0\n",
       "24.0     880.0\n",
       "28.0     858.0\n",
       "27.0     818.0\n",
       "26.0     810.0\n",
       "Name: Num Cases, dtype: float64"
      ]
     },
     "execution_count": 20,
     "metadata": {},
     "output_type": "execute_result"
    }
   ],
   "source": [
    "# Age group which is infected most\n",
    "ab = data.groupby('Age Bracket')['Num Cases'].sum().sort_values(ascending= False).head(10)\n",
    "ab"
   ]
  },
  {
   "cell_type": "code",
   "execution_count": 21,
   "metadata": {},
   "outputs": [
    {
     "data": {
      "image/png": "[encoded data removed]",
      "text/plain": [
       "<Figure size 432x288 with 1 Axes>"
      ]
     },
     "metadata": {
      "needs_background": "light"
     },
     "output_type": "display_data"
    }
   ],
   "source": [
    "ab.plot.bar()\n",
    "plt.show()"
   ]
  },
  {
   "cell_type": "code",
   "execution_count": 22,
   "metadata": {},
   "outputs": [
    {
     "data": {
      "text/plain": [
       "Detected State\n",
       "Maharashtra                                 217107.0\n",
       "Tamil Nadu                                  118587.0\n",
       "Delhi                                       102827.0\n",
       "Gujarat                                      37631.0\n",
       "Uttar Pradesh                                29959.0\n",
       "Telangana                                    27610.0\n",
       "Karnataka                                    26742.0\n",
       "West Bengal                                  23831.0\n",
       "Rajasthan                                    21400.0\n",
       "Andhra Pradesh                               21195.0\n",
       "Haryana                                      17987.0\n",
       "Madhya Pradesh                               15625.0\n",
       "Assam                                        13337.0\n",
       "Bihar                                        12524.0\n",
       "Odisha                                       10096.0\n",
       "Jammu and Kashmir                             8930.0\n",
       "Punjab                                        6747.0\n",
       "Kerala                                        5834.0\n",
       "State Unassigned                              5034.0\n",
       "Chhattisgarh                                  3407.0\n",
       "Uttarakhand                                   3229.0\n",
       "Jharkhand                                     3018.0\n",
       "Goa                                           1903.0\n",
       "Tripura                                       1716.0\n",
       "Manipur                                       1429.0\n",
       "Himachal Pradesh                              1081.0\n",
       "Puducherry                                    1043.0\n",
       "Ladakh                                        1041.0\n",
       "Nagaland                                       644.0\n",
       "Chandigarh                                     492.0\n",
       "Dadra and Nagar Haveli and Daman and Diu       427.0\n",
       "Arunachal Pradesh                              276.0\n",
       "Mizoram                                        198.0\n",
       "Andaman and Nicobar Islands                    136.0\n",
       "Sikkim                                         127.0\n",
       "Meghalaya                                       94.0\n",
       "Name: Num Cases, dtype: float64"
      ]
     },
     "execution_count": 22,
     "metadata": {},
     "output_type": "execute_result"
    }
   ],
   "source": [
    "#state-wise\n",
    "st_wise = data[data['Current Status']=='Hospitalized'].groupby('Detected State')['Num Cases'].sum().sort_values(ascending = False)\n",
    "st_wise"
   ]
  },
  {
   "cell_type": "code",
   "execution_count": 27,
   "metadata": {},
   "outputs": [
    {
     "data": {
      "image/png": "[encoded data removed]",
      "text/plain": [
       "<Figure size 1080x432 with 1 Axes>"
      ]
     },
     "metadata": {
      "needs_background": "light"
     },
     "output_type": "display_data"
    }
   ],
   "source": [
    "st_wise.plot.bar(figsize=(15,6))\n",
    "plt.title('State Wise Analysis of COVID-19',fontsize=20)\n",
    "plt.show()"
   ]
  },
  {
   "cell_type": "code",
   "execution_count": 24,
   "metadata": {},
   "outputs": [
    {
     "data": {
      "image/png": "[encoded data removed]",
      "text/plain": [
       "<Figure size 1080x648 with 1 Axes>"
      ]
     },
     "metadata": {
      "needs_background": "light"
     },
     "output_type": "display_data"
    }
   ],
   "source": [
    "st_wise.plot(figsize=(15,9))\n",
    "plt.xticks(rotation= 90)\n",
    "plt.show()"
   ]
  },
  {
   "cell_type": "code",
   "execution_count": 25,
   "metadata": {},
   "outputs": [
    {
     "data": {
      "text/plain": [
       "Month  Day\n",
       "3      4          5.0\n",
       "       5          1.0\n",
       "       7          2.0\n",
       "       9          4.0\n",
       "       10         4.0\n",
       "               ...   \n",
       "7      3      22718.0\n",
       "       4      24018.0\n",
       "       5      23942.0\n",
       "       6      22500.0\n",
       "       7      23147.0\n",
       "Name: Num Cases, Length: 124, dtype: float64"
      ]
     },
     "execution_count": 25,
     "metadata": {},
     "output_type": "execute_result"
    }
   ],
   "source": [
    "#Cases per month each day\n",
    "\n",
    "dy = data[data['Current Status']=='Hospitalized'].groupby(['Month','Day'])['Num Cases'].sum()\n",
    "dy"
   ]
  },
  {
   "cell_type": "code",
   "execution_count": 24,
   "metadata": {},
   "outputs": [
    {
     "data": {
      "image/png": "[encoded data removed]",
      "text/plain": [
       "<Figure size 1080x432 with 5 Axes>"
      ]
     },
     "metadata": {
      "needs_background": "light"
     },
     "output_type": "display_data"
    }
   ],
   "source": [
    "dy.unstack(level=0).plot(kind= 'bar', subplots = True,figsize=(15,6))\n",
    "plt.show()"
   ]
  },
  {
   "cell_type": "code",
   "execution_count": 25,
   "metadata": {},
   "outputs": [
    {
     "data": {
      "text/plain": [
       "array(['Recovered', 'Hospitalized', 'Deceased', 'Migrated',\n",
       "       'Migrated_Other', nan, 'Migrated_other'], dtype=object)"
      ]
     },
     "execution_count": 25,
     "metadata": {},
     "output_type": "execute_result"
    }
   ],
   "source": [
    "data['Current Status'].unique()"
   ]
  },
  {
   "cell_type": "code",
   "execution_count": 30,
   "metadata": {
    "scrolled": true
   },
   "outputs": [
    {
     "data": {
      "image/png": "[encoded data removed]",
      "text/plain": [
       "<Figure size 1080x432 with 5 Axes>"
      ]
     },
     "metadata": {
      "needs_background": "light"
     },
     "output_type": "display_data"
    }
   ],
   "source": [
    "dy2 = data[data['Current Status']=='Deceased'].groupby(['Month','Day'])['Num Cases'].sum()\n",
    "dy2.unstack(level=0).plot(kind= 'bar', subplots = True,figsize=(15,6))\n",
    "plt.show()"
   ]
  },
  {
   "cell_type": "code",
   "execution_count": 48,
   "metadata": {},
   "outputs": [
    {
     "data": {
      "image/png": "[encoded data removed]",
      "text/plain": [
       "<Figure size 1080x432 with 1 Axes>"
      ]
     },
     "metadata": {
      "needs_background": "light"
     },
     "output_type": "display_data"
    }
   ],
   "source": [
    "pct2.plot.bar(figsize=(15,6))\n",
    "plt.show()"
   ]
  },
  {
   "cell_type": "code",
   "execution_count": 29,
   "metadata": {},
   "outputs": [
    {
     "data": {
      "text/plain": [
       "<matplotlib.axes._subplots.AxesSubplot at 0xd151328>"
      ]
     },
     "execution_count": 29,
     "metadata": {},
     "output_type": "execute_result"
    },
    {
     "data": {
      "image/png": "[encoded data removed]",
      "text/plain": [
       "<Figure size 864x432 with 1 Axes>"
      ]
     },
     "metadata": {
      "needs_background": "light"
     },
     "output_type": "display_data"
    }
   ],
   "source": [
    "death = data[data['Current Status']=='Deceased'].groupby('Month')['Num Cases'].sum()\n",
    "death.plot(label = 'Death Cases',color='red',marker='s',markerfacecolor='orange',markersize='5',linewidth= 1,figsize=(12,6))\n"
   ]
  },
  {
   "cell_type": "code",
   "execution_count": null,
   "metadata": {},
   "outputs": [],
   "source": []
  }
 ],
 "metadata": {
  "kernelspec": {
   "display_name": "Python 3",
   "language": "python",
   "name": "python3"
  },
  "language_info": {
   "codemirror_mode": {
    "name": "ipython",
    "version": 3
   },
   "file_extension": ".py",
   "mimetype": "text/x-python",
   "name": "python",
   "nbconvert_exporter": "python",
   "pygments_lexer": "ipython3",
   "version": "3.8.3"
  }
 },
 "nbformat": 4,
 "nbformat_minor": 4
}
